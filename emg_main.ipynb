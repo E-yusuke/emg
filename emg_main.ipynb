{
 "cells": [
  {
   "cell_type": "code",
   "execution_count": 1,
   "id": "c2d13b7a-1380-437c-806b-64e998cc98b9",
   "metadata": {},
   "outputs": [],
   "source": [
    "import torch\n",
    "import torch.nn\n",
    "from torch.utils.data import TensorDataset, DataLoader\n",
    "from torch.utils.data.dataset import Subset\n",
    "from torchvision.datasets import ImageFolder\n",
    "import torchvision\n",
    "from torchvision import transforms\n",
    "import torch.nn as nn\n",
    "import torch.nn.functional as F\n",
    "import torch.optim as optim\n",
    "import tqdm as tqdm\n",
    "import torch.optim as optim\n",
    "from torch.utils.tensorboard import SummaryWriter"
   ]
  },
  {
   "cell_type": "code",
   "execution_count": 2,
   "id": "c6a9c2e2-cdf3-4ad8-a499-560e22a3ac4c",
   "metadata": {},
   "outputs": [
    {
     "name": "stdout",
     "output_type": "stream",
     "text": [
      "True\n"
     ]
    }
   ],
   "source": [
    "print(torch.cuda.is_available())"
   ]
  },
  {
   "cell_type": "code",
   "execution_count": 2,
   "id": "95a4e110-4c88-40e8-9ade-d6c082a428dc",
   "metadata": {},
   "outputs": [
    {
     "name": "stdout",
     "output_type": "stream",
     "text": [
      "FFNNs(\n",
      "  (fc1): Linear(in_features=12000, out_features=1024, bias=True)\n",
      "  (fc2): Linear(in_features=1024, out_features=512, bias=True)\n",
      "  (fc3): Linear(in_features=512, out_features=6, bias=True)\n",
      ")\n"
     ]
    }
   ],
   "source": [
    "import model\n",
    "\n",
    "net=model.FFNNs(12000)\n",
    "print(net)"
   ]
  },
  {
   "cell_type": "code",
   "execution_count": 20,
   "id": "1b4ba984-00b8-41ac-a38a-146adb2b79b1",
   "metadata": {},
   "outputs": [],
   "source": [
    "import pandas as pd\n",
    "import numpy as np\n",
    "import os\n",
    "import csv\n",
    "from preprocess import preprocess as pre"
   ]
  },
  {
   "cell_type": "code",
   "execution_count": 38,
   "id": "2d36294f-5b1f-4f53-a505-fa4df3405a07",
   "metadata": {},
   "outputs": [
    {
     "name": "stdout",
     "output_type": "stream",
     "text": [
      "\t 前処理時間\t0.9815034866333008[s]\n",
      "\t 前処理時間\t0.9802696704864502[s]\n",
      "\t 前処理時間\t0.9994697570800781[s]\n",
      "\t 前処理時間\t0.9462888240814209[s]\n",
      "\t 前処理時間\t0.9412484169006348[s]\n",
      "\t 前処理時間\t0.9304220676422119[s]\n",
      "\t 前処理時間\t0.9367668628692627[s]\n",
      "\t 前処理時間\t0.9525501728057861[s]\n",
      "\t 前処理時間\t0.9557569026947021[s]\n",
      "\t 前処理時間\t0.9698145389556885[s]\n"
     ]
    }
   ],
   "source": [
    "name = [\"nagata\", \"noda\", \"shiba\", \"kirikihira\", \"asae2\"]\n",
    "name_action = [\"nagata_action\", \"noda_action\", \"shiba_action\", \"kirikihira_action\", \"asae_action\"]\n",
    "name_list = name + name_action\n",
    "experiment = 'RMS'\n",
    "# fix random seed for reproducibility\n",
    "seed = 7\n",
    "np.random.seed(seed)\n",
    "\n",
    "Data = None\n",
    "Labels = None\n",
    "DATA_list = []\n",
    "LABEL_list = []\n",
    "for name_ in name_list:\n",
    "    # デスクトップのパス\n",
    "    path_in = './dataset/{}/'.format(str(name_))\n",
    "    path_out = './Result/experiment1_{}/'.format(str(name_))\n",
    "\n",
    "    try:\n",
    "        os.makedirs(path_out, exist_ok=True)\n",
    "    except FileExistsError:\n",
    "        pass\n",
    "    data = pre(path_in)\n",
    "    if experiment == 'IEMG':\n",
    "        Data, Labels = data.iemgdata()\n",
    "        input_dim = Data.shape[1]\n",
    "\n",
    "    elif experiment == 'RMS':\n",
    "        Data, Labels = data.emgdata()\n",
    "        input_dim = Data.shape[1]\n",
    "    DATA_list.append(Data)\n",
    "    LABEL_list.append(Labels)\n",
    "DATA_list = np.array(DATA_list)\n",
    "LABEL_list = np.array(LABEL_list)\n",
    "DATA = np.concatenate([DATA_list[0], DATA_list[1], DATA_list[2], DATA_list[3], DATA_list[4],\n",
    "                      DATA_list[5], DATA_list[6], DATA_list[7], DATA_list[8], DATA_list[9]])\n",
    "LABEL = np.concatenate([LABEL_list[0], LABEL_list[1], LABEL_list[2], LABEL_list[3], LABEL_list[4],\n",
    "                        LABEL_list[5], LABEL_list[6], LABEL_list[7], LABEL_list[8], LABEL_list[9]])\n"
   ]
  },
  {
   "cell_type": "code",
   "execution_count": 41,
   "id": "f4fc96e6-c688-4798-a228-3593810a6650",
   "metadata": {},
   "outputs": [
    {
     "data": {
      "text/plain": [
       "(3000, 12000)"
      ]
     },
     "execution_count": 41,
     "metadata": {},
     "output_type": "execute_result"
    }
   ],
   "source": [
    "DATA.shape"
   ]
  },
  {
   "cell_type": "code",
   "execution_count": 29,
   "id": "661ddb25-ae32-4f39-bcfd-985be80f5037",
   "metadata": {
    "tags": []
   },
   "outputs": [],
   "source": [
    "DATA_list=np.concatenate([DATA[0],DATA[1],DATA[2]+DATA[3]+DATA[4]+DATA[5]+DATA[6]+DATA[7]+DATA[8]+DATA[9]])"
   ]
  },
  {
   "cell_type": "code",
   "execution_count": 31,
   "id": "3ba5a748-fe03-4cff-9bd8-1ce9da78111d",
   "metadata": {},
   "outputs": [
    {
     "data": {
      "text/plain": [
       "300"
      ]
     },
     "execution_count": 31,
     "metadata": {},
     "output_type": "execute_result"
    }
   ],
   "source": [
    "len(DATA_list)"
   ]
  },
  {
   "cell_type": "code",
   "execution_count": 28,
   "id": "d5056b18-3fce-4a98-916b-439b0b92406e",
   "metadata": {},
   "outputs": [
    {
     "name": "stdout",
     "output_type": "stream",
     "text": [
      "300\n",
      "300\n",
      "300\n",
      "300\n",
      "300\n",
      "300\n",
      "300\n",
      "300\n",
      "300\n",
      "300\n"
     ]
    }
   ],
   "source": [
    "for i in range(10):\n",
    "    print(len(DATA[i]))"
   ]
  },
  {
   "cell_type": "code",
   "execution_count": 38,
   "id": "2018ea67-83ff-4318-a931-4ced8e7a2315",
   "metadata": {},
   "outputs": [
    {
     "name": "stdout",
     "output_type": "stream",
     "text": [
      "\t 前処理時間\t0.9847238063812256[s]\n",
      "\t 前処理時間\t0.9714360237121582[s]\n",
      "\t 前処理時間\t1.033653974533081[s]\n",
      "\t 前処理時間\t0.9626290798187256[s]\n",
      "\t 前処理時間\t0.9671204090118408[s]\n",
      "\t 前処理時間\t1.044018268585205[s]\n",
      "\t 前処理時間\t0.9540979862213135[s]\n",
      "\t 前処理時間\t0.9784908294677734[s]\n",
      "\t 前処理時間\t0.9658286571502686[s]\n",
      "\t 前処理時間\t0.9721224308013916[s]\n"
     ]
    }
   ],
   "source": [
    "name = [\"nagata\", \"noda\", \"shiba\", \"kirikihira\", \"asae2\"]\n",
    "name_action = [\"nagata_action\", \"noda_action\", \"shiba_action\", \"kirikihira_action\", \"asae_action\"]\n",
    "name_list = name + name_action\n",
    "experiment = 'RMS'\n",
    "\n",
    "# fix random seed for reproducibility\n",
    "seed = 7\n",
    "np.random.seed(seed)\n",
    "\n",
    "Data = None\n",
    "Labels = None\n",
    "DATA = {}\n",
    "LABEL = {}\n",
    "for name_ in name_list:\n",
    "    # デスクトップのパス\n",
    "    path_in = './dataset/{}/'.format(str(name_))\n",
    "    path_out = './Result/experiment1_FNN_{}/{}/'.format(experiment, str(name_))\n",
    "    \n",
    "    try:\n",
    "        os.makedirs(path_out, exist_ok=True)\n",
    "    except FileExistsError:\n",
    "        pass\n",
    "    data = pre(path_in)\n",
    "    if experiment == 'IEMG':\n",
    "        Data, Labels = data.iemgdata()\n",
    "        input_dim = Data.shape[1]\n",
    "\n",
    "    elif experiment == 'RMS':\n",
    "        Data, Labels = data.emgdata()\n",
    "        input_dim = Data.shape[1]\n",
    "    DATA[name_] = Data\n",
    "    LABEL[name_] = Labels"
   ]
  },
  {
   "cell_type": "code",
   "execution_count": 73,
   "id": "4d852cb8-f9e6-4117-b549-e5f10cc9b653",
   "metadata": {},
   "outputs": [],
   "source": [
    "np.random.seed(777)\n",
    "_index = np.arange(len(DATA[\"nagata\"]))\n",
    "np.random.shuffle(_index)\n",
    "train_index, validation_index, test_index = np.split(_index, [int(.6*len(DATA[\"nagata\"])), int(.8*len(DATA[\"nagata\"]))])"
   ]
  },
  {
   "cell_type": "code",
   "execution_count": 75,
   "id": "2b2210f0-ec95-487d-91b1-495ddb3b753e",
   "metadata": {},
   "outputs": [],
   "source": [
    "emg_data_person=torch.tensor(DATA[\"nagata\"], dtype=torch.float32)\n",
    "emg_data_label=torch.tensor(LABEL[\"nagata\"], dtype=torch.int64)\n",
    "emg_dataset = torch.utils.data.TensorDataset(emg_data_person, emg_data_label)\n"
   ]
  },
  {
   "cell_type": "code",
   "execution_count": 83,
   "id": "65a15744-6d45-47a8-9840-c0de59317b37",
   "metadata": {},
   "outputs": [
    {
     "data": {
      "text/plain": [
       "4"
      ]
     },
     "execution_count": 83,
     "metadata": {},
     "output_type": "execute_result"
    }
   ],
   "source": [
    "LABEL[\"nagata\"][244]"
   ]
  },
  {
   "cell_type": "code",
   "execution_count": 121,
   "id": "7e3cfd7c-70f8-4e59-9e4a-8566cd642a13",
   "metadata": {},
   "outputs": [],
   "source": [
    "np.random.seed(777)\n",
    "_index = np.arange(len(DATA[name_]))\n",
    "np.random.shuffle(_index)\n",
    "train_index, validation_index, test_index = np.split(_index, [int(.6*len(DATA[name_])), int(.8*len(DATA[name_]))])\n",
    "emg_data_person=torch.tensor(DATA[name_], dtype=torch.float32)\n",
    "emg_data_label=torch.tensor(LABEL[name_], dtype=torch.int64)\n",
    "emg_dataset = torch.utils.data.TensorDataset(emg_data_person, emg_data_label)\n",
    "\n",
    "train_dataset = Subset(emg_dataset, train_index)\n",
    "train_loader = torch.utils.data.DataLoader(train_dataset, \n",
    "                                            batch_size=20, \n",
    "                                            shuffle=True, \n",
    "                                            num_workers=1)\n",
    "\n",
    "validation_dataset   = Subset(emg_dataset, validation_index)\n",
    "val_loader = torch.utils.data.DataLoader(validation_dataset, \n",
    "                                            batch_size=20, \n",
    "                                            shuffle=False, \n",
    "                                            num_workers=1)\n",
    "\n",
    "test_dataset   = Subset(emg_dataset, test_index)\n",
    "test_loader = torch.utils.data.DataLoader(test_dataset, \n",
    "                                            batch_size=20, \n",
    "                                            shuffle=False, \n",
    "                                            num_workers=1)\n",
    "\n"
   ]
  },
  {
   "cell_type": "code",
   "execution_count": 115,
   "id": "cbb3cd59-976c-487c-beb6-8c266dc449a2",
   "metadata": {
    "tags": []
   },
   "outputs": [
    {
     "data": {
      "text/plain": [
       "[<matplotlib.lines.Line2D at 0x7fdcf93d87c0>]"
      ]
     },
     "execution_count": 115,
     "metadata": {},
     "output_type": "execute_result"
    },
    {
     "data": {
      "image/png": "[encoded data removed]",
      "text/plain": [
       "<Figure size 432x288 with 1 Axes>"
      ]
     },
     "metadata": {
      "needs_background": "light"
     },
     "output_type": "display_data"
    }
   ],
   "source": [
    "import matplotlib.pyplot as plt \n",
    "plt.plot(range(len(train_dataset[0][0])),train_dataset[0][0].numpy())"
   ]
  },
  {
   "cell_type": "code",
   "execution_count": 123,
   "id": "4145abb0-b90b-40cb-b8e9-1630338df379",
   "metadata": {},
   "outputs": [
    {
     "name": "stdout",
     "output_type": "stream",
     "text": [
      "0\n",
      "torch.Size([20, 12000])\n",
      "torch.Size([20])\n",
      "1\n",
      "torch.Size([20, 12000])\n",
      "torch.Size([20])\n",
      "2\n",
      "torch.Size([20, 12000])\n",
      "torch.Size([20])\n",
      "3\n",
      "torch.Size([20, 12000])\n",
      "torch.Size([20])\n",
      "4\n",
      "torch.Size([20, 12000])\n",
      "torch.Size([20])\n",
      "5\n",
      "torch.Size([20, 12000])\n",
      "torch.Size([20])\n",
      "6\n",
      "torch.Size([20, 12000])\n",
      "torch.Size([20])\n",
      "7\n",
      "torch.Size([20, 12000])\n",
      "torch.Size([20])\n",
      "8\n",
      "torch.Size([20, 12000])\n",
      "torch.Size([20])\n"
     ]
    }
   ],
   "source": [
    "for i, (images, label) in enumerate(train_loader):\n",
    "    images, label = images, label\n",
    "    print(i)\n",
    "    # バッチサイズ, チャンネル数, 縦, 横\n",
    "    print(images.size())\n",
    "\n",
    "    # ラベル\n",
    "    print(label.size())"
   ]
  },
  {
   "cell_type": "code",
   "execution_count": 124,
   "id": "a2fca6d7-1053-4f4f-b503-20b517e3c889",
   "metadata": {},
   "outputs": [
    {
     "name": "stdout",
     "output_type": "stream",
     "text": [
      "0\n",
      "torch.Size([20, 12000])\n",
      "torch.Size([20])\n",
      "1\n",
      "torch.Size([20, 12000])\n",
      "torch.Size([20])\n",
      "2\n",
      "torch.Size([20, 12000])\n",
      "torch.Size([20])\n"
     ]
    }
   ],
   "source": [
    "for i, (images, label) in enumerate(val_loader):\n",
    "    images, label = images, label\n",
    "    print(i)\n",
    "    # バッチサイズ, チャンネル数, 縦, 横\n",
    "    print(images.size())\n",
    "\n",
    "    # ラベル\n",
    "    print(label.size())"
   ]
  },
  {
   "cell_type": "code",
   "execution_count": 125,
   "id": "05a9b093-a4c5-4c9a-8e64-8ed517e7146e",
   "metadata": {},
   "outputs": [
    {
     "name": "stdout",
     "output_type": "stream",
     "text": [
      "0\n",
      "torch.Size([20, 12000])\n",
      "torch.Size([20])\n",
      "1\n",
      "torch.Size([20, 12000])\n",
      "torch.Size([20])\n",
      "2\n",
      "torch.Size([20, 12000])\n",
      "torch.Size([20])\n"
     ]
    }
   ],
   "source": [
    "for i, (images, label) in enumerate(test_loader):\n",
    "    images, label = images, label\n",
    "    print(i)\n",
    "    # バッチサイズ, チャンネル数, 縦, 横\n",
    "    print(images.size())\n",
    "\n",
    "    # ラベル\n",
    "    print(label.size())"
   ]
  },
  {
   "cell_type": "code",
   "execution_count": null,
   "id": "b0a7146d-37ab-4c9e-963e-c396dca2352f",
   "metadata": {},
   "outputs": [],
   "source": []
  }
 ],
 "metadata": {
  "kernelspec": {
   "display_name": "Python 3",
   "language": "python",
   "name": "python3"
  },
  "language_info": {
   "codemirror_mode": {
    "name": "ipython",
    "version": 3
   },
   "file_extension": ".py",
   "mimetype": "text/x-python",
   "name": "python",
   "nbconvert_exporter": "python",
   "pygments_lexer": "ipython3",
   "version": "3.8.8"
  }
 },
 "nbformat": 4,
 "nbformat_minor": 5
}
